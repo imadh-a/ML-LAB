{
  "nbformat": 4,
  "nbformat_minor": 0,
  "metadata": {
    "colab": {
      "provenance": []
    },
    "kernelspec": {
      "name": "python3",
      "display_name": "Python 3"
    },
    "language_info": {
      "name": "python"
    }
  },
  "cells": [
    {
      "cell_type": "code",
      "execution_count": 1,
      "metadata": {
        "colab": {
          "base_uri": "https://localhost:8080/"
        },
        "id": "WY2j6T2TQrPj",
        "outputId": "e490a180-c0ed-400f-b3e1-5a7e75302932"
      },
      "outputs": [
        {
          "output_type": "stream",
          "name": "stdout",
          "text": [
            "Mounted at /content/drive\n",
            "     Sky AirTemp Humidity    Wind Water Forecast EnjoySport\n",
            "0  Sunny    Warm   Normal  Strong  Warm     Same        Yes\n",
            "1  Sunny    Warm     High  Strong  Warm     Same        Yes\n",
            "2  Rainy    Cold     High  Strong  Warm   Change         No\n",
            "3  Sunny    Warm     High  Strong  Cool   Change        Yes \n",
            "\n",
            "\n",
            "The attributes are: [['Sunny' 'Warm' 'Normal' 'Strong' 'Warm' 'Same']\n",
            " ['Sunny' 'Warm' 'High' 'Strong' 'Warm' 'Same']\n",
            " ['Rainy' 'Cold' 'High' 'Strong' 'Warm' 'Change']\n",
            " ['Sunny' 'Warm' 'High' 'Strong' 'Cool' 'Change']]\n",
            "\n",
            "The target is: ['Yes' 'Yes' 'No' 'Yes']\n",
            "\n",
            "The final hypothesis is: ['Sunny' 'Warm' '?' 'Strong' '?' '?']\n",
            "\n",
            "Predicted targets: ['Yes', 'Yes', 'No', 'Yes']\n",
            "\n",
            "Accuracy: 100.0\n"
          ]
        }
      ],
      "source": [
        "import numpy as np\n",
        "import pandas as pd\n",
        "from google.colab import drive\n",
        "drive.mount(\"/content/drive\")\n",
        "path = \"/content/drive/MyDrive/ML LAB/LAB-2/enjoysport.csv\"\n",
        "data = pd.read_csv(path)\n",
        "print(data, \"\\n\")\n",
        "\n",
        "d = np.array(data)[:, :-1]\n",
        "print(\"\\nThe attributes are:\", d)\n",
        "\n",
        "target = np.array(data)[:, -1]\n",
        "print(\"\\nThe target is:\", target)\n",
        "\n",
        "\n",
        "def findS(c, t):\n",
        "    for i, val in enumerate(t):\n",
        "        if val == \"Yes\":\n",
        "            specific_hypothesis = c[i].copy()\n",
        "            break\n",
        "\n",
        "    for i, val in enumerate(c):\n",
        "        if t[i] == \"Yes\":\n",
        "            for x in range(len(specific_hypothesis)):\n",
        "                if val[x] != specific_hypothesis[x]:\n",
        "                    specific_hypothesis[x] = '?'\n",
        "                else:\n",
        "                    pass\n",
        "\n",
        "    return specific_hypothesis\n",
        "\n",
        "\n",
        "hypothesis = findS(d, target)\n",
        "print(\"\\nThe final hypothesis is:\", hypothesis)\n",
        "\n",
        "\n",
        "def predict(data, hypothesis):\n",
        "    predicted_targets = []\n",
        "    for instance in data:\n",
        "        match = True\n",
        "        for i in range(len(hypothesis)):\n",
        "            if hypothesis[i] != '?' and hypothesis[i] != instance[i]:\n",
        "                match = False\n",
        "                break\n",
        "        if match:\n",
        "            predicted_targets.append(\"Yes\")\n",
        "        else:\n",
        "            predicted_targets.append(\"No\")\n",
        "    return predicted_targets\n",
        "\n",
        "\n",
        "predicted_targets = predict(d, hypothesis)\n",
        "print(\"\\nPredicted targets:\", predicted_targets)\n",
        "\n",
        "\n",
        "def calculate_accuracy(actual, predicted):\n",
        "    correct = sum(1 for a, p in zip(actual, predicted) if a == p)\n",
        "    total = len(actual)\n",
        "    accuracy = correct / total * 100\n",
        "    return accuracy\n",
        "\n",
        "\n",
        "accuracy = calculate_accuracy(target, predicted_targets)\n",
        "print(\"\\nAccuracy:\", accuracy)\n"
      ]
    }
  ]
}