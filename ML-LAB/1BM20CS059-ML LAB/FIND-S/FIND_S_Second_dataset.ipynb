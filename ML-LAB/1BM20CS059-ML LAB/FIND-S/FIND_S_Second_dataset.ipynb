{
  "nbformat": 4,
  "nbformat_minor": 0,
  "metadata": {
    "colab": {
      "provenance": []
    },
    "kernelspec": {
      "name": "python3",
      "display_name": "Python 3"
    },
    "language_info": {
      "name": "python"
    }
  },
  "cells": [
    {
      "cell_type": "code",
      "execution_count": 1,
      "metadata": {
        "id": "rIcgA3kTKLUg"
      },
      "outputs": [],
      "source": [
        "import numpy as np\n",
        "import pandas as pd"
      ]
    },
    {
      "cell_type": "code",
      "source": [
        "from google.colab import drive\n",
        "drive.mount(\"/content/drive\")"
      ],
      "metadata": {
        "id": "ZHy9wiBSKWE3",
        "colab": {
          "base_uri": "https://localhost:8080/"
        },
        "outputId": "863c8038-5781-429c-f561-88a8cd0dec85"
      },
      "execution_count": 2,
      "outputs": [
        {
          "output_type": "stream",
          "name": "stdout",
          "text": [
            "Mounted at /content/drive\n"
          ]
        }
      ]
    },
    {
      "cell_type": "code",
      "source": [
        "path=\"/content/drive/MyDrive/ML LAB/LAB-2/second_dataset.csv\""
      ],
      "metadata": {
        "id": "7yg2lQ6cKXz2"
      },
      "execution_count": 3,
      "outputs": []
    },
    {
      "cell_type": "code",
      "source": [
        "data = pd.read_csv(path)"
      ],
      "metadata": {
        "id": "f7NVbE8hL4X3"
      },
      "execution_count": 4,
      "outputs": []
    },
    {
      "cell_type": "code",
      "source": [
        "print(data,\"\\n\")"
      ],
      "metadata": {
        "colab": {
          "base_uri": "https://localhost:8080/"
        },
        "id": "vWChZRcmL5Sf",
        "outputId": "40683ee3-cfb5-4877-ff5f-005eb286b2a9"
      },
      "execution_count": 5,
      "outputs": [
        {
          "output_type": "stream",
          "name": "stdout",
          "text": [
            "   Some   Small      No  Affordable   Many No.1\n",
            "0  Many     Big      No    Expensive   One  Yes\n",
            "1  Some     Big  Always    Expensive  Few    No\n",
            "2  Many  Medium      No    Expensive  Many  Yes\n",
            "3  Many   Small      No  Affordable   Many  Yes \n",
            "\n"
          ]
        }
      ]
    },
    {
      "cell_type": "code",
      "source": [
        "d = np.array(data)[:,:-1]\n",
        "print(\"\\n The attributes are: \",d)"
      ],
      "metadata": {
        "colab": {
          "base_uri": "https://localhost:8080/"
        },
        "id": "3JR-Lh5RL9Jn",
        "outputId": "4373b016-4029-426c-8060-386996309715"
      },
      "execution_count": 6,
      "outputs": [
        {
          "output_type": "stream",
          "name": "stdout",
          "text": [
            "\n",
            " The attributes are:  [['Many' 'Big' 'No' 'Expensive' 'One']\n",
            " ['Some' 'Big' 'Always' 'Expensive' 'Few ']\n",
            " ['Many' 'Medium' 'No' 'Expensive' 'Many']\n",
            " ['Many' 'Small' 'No' 'Affordable ' 'Many']]\n"
          ]
        }
      ]
    },
    {
      "cell_type": "code",
      "source": [
        "target = np.array(data)[:,-1]\n",
        "print(\"\\n The target is: \",target)"
      ],
      "metadata": {
        "colab": {
          "base_uri": "https://localhost:8080/"
        },
        "id": "6rmObDUuMAXv",
        "outputId": "8fe4b09d-f0c1-4646-f9a0-0cfdca4b3055"
      },
      "execution_count": 7,
      "outputs": [
        {
          "output_type": "stream",
          "name": "stdout",
          "text": [
            "\n",
            " The target is:  ['Yes' 'No' 'Yes' 'Yes']\n"
          ]
        }
      ]
    },
    {
      "cell_type": "code",
      "source": [
        "def find_s(d,target):\n",
        "  for i,val in enumerate(target):\n",
        "    if val=='Yes':\n",
        "      hypothesis=d[i].copy()\n",
        "      break\n",
        "\n",
        "  for i,var in enumerate(d):\n",
        "    if target[i]==\"Yes\":\n",
        "      for x in range(len(hypothesis)):\n",
        "        if var[x]!=hypothesis[x]:\n",
        "          hypothesis[x]='?'\n",
        "        else:\n",
        "          pass\n",
        "\n",
        "  return hypothesis\n",
        "\n",
        "print(\"The Hypothesis is\",find_s(d,target))"
      ],
      "metadata": {
        "colab": {
          "base_uri": "https://localhost:8080/"
        },
        "id": "Of4Zir3-MJb2",
        "outputId": "3baab0b9-a3d1-4167-a8e5-4432bde3b56a"
      },
      "execution_count": 9,
      "outputs": [
        {
          "output_type": "stream",
          "name": "stdout",
          "text": [
            "The Hypothesis is ['Many' '?' 'No' '?' '?']\n"
          ]
        }
      ]
    }
  ]
}