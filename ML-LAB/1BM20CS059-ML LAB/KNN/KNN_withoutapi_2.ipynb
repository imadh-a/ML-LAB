{
  "nbformat": 4,
  "nbformat_minor": 0,
  "metadata": {
    "colab": {
      "provenance": []
    },
    "kernelspec": {
      "name": "python3",
      "display_name": "Python 3"
    },
    "language_info": {
      "name": "python"
    }
  },
  "cells": [
    {
      "cell_type": "code",
      "execution_count": 2,
      "metadata": {
        "colab": {
          "base_uri": "https://localhost:8080/"
        },
        "id": "EDy2Jrmdsc_6",
        "outputId": "224b234d-2f7d-4c4a-9b8a-d4094934b844"
      },
      "outputs": [
        {
          "output_type": "stream",
          "name": "stdout",
          "text": [
            "Mounted at /content/drive\n"
          ]
        }
      ],
      "source": [
        "from google.colab import drive\n",
        "drive.mount('/content/drive')"
      ]
    },
    {
      "cell_type": "code",
      "source": [
        "import pandas as pd\n",
        "import numpy as np\n",
        "import math\n",
        "import operator\n",
        "\n",
        "# Read the CSV file\n",
        "data = pd.read_csv(\"/content/drive/MyDrive/ML LAB/LAB-7/kmeans_1BM20CS059.csv\")\n",
        "\n",
        "# Print the first few rows of the dataset\n",
        "print(data.head())\n",
        "\n",
        "# Define a function that calculates the Euclidean distance between two data points\n",
        "def euclideanDistance(data1, data2, length):\n",
        "    distance = 0\n",
        "    for x in range(length):\n",
        "        distance += np.square(data1[x] - data2[x])\n",
        "    return np.sqrt(distance)\n",
        "\n",
        "# Define our KNN model\n",
        "def knn(trainingSet, testSet, k):\n",
        "    distances = {}\n",
        "    length = len(testSet)\n",
        "\n",
        "    # Calculating Euclidean distance between each row of training data and test data\n",
        "    for x in range(len(trainingSet)):\n",
        "        dist = euclideanDistance(testSet, trainingSet.iloc[x], length)\n",
        "        distances[x] = dist\n",
        "\n",
        "    # Sorting them based on distance\n",
        "    sorted_d = sorted(distances.items(), key=operator.itemgetter(1))\n",
        "\n",
        "    neighbors = []\n",
        "\n",
        "    # Extracting top k neighbors\n",
        "    for x in range(k):\n",
        "        neighbors.append(sorted_d[x][0])\n",
        "\n",
        "    classVotes = {}\n",
        "\n",
        "    # Determining the most frequent class in the neighbors array\n",
        "    for x in range(len(neighbors)):\n",
        "        response = trainingSet.iloc[neighbors[x]]['cluster']\n",
        "\n",
        "        if response in classVotes:\n",
        "            classVotes[response] += 1\n",
        "        else:\n",
        "            classVotes[response] = 1\n",
        "\n",
        "    sortedVotes = sorted(classVotes.items(), key=operator.itemgetter(1), reverse=True)\n",
        "    return sortedVotes[0][0], neighbors\n",
        "\n",
        "# Define the test set\n",
        "testSet = [24.412, 32]\n",
        "\n",
        "# Make predictions\n",
        "print('\\n\\nWith 5 Nearest Neighbors\\n')\n",
        "k = 5\n",
        "result, neighbors = knn(data, testSet, k)\n",
        "print('Predicted class:', result)\n",
        "print('Nearest Neighbors:', neighbors)\n"
      ],
      "metadata": {
        "colab": {
          "base_uri": "https://localhost:8080/"
        },
        "id": "UrseQmR_sqcC",
        "outputId": "f219e3af-48f1-4e4e-8d31-d01335acd9a2"
      },
      "execution_count": 3,
      "outputs": [
        {
          "output_type": "stream",
          "name": "stdout",
          "text": [
            "   ID       x       y  cluster\n",
            "0   0  24.412  32.932        2\n",
            "1   1  35.190  12.189        1\n",
            "2   2  26.288  41.718        2\n",
            "3   3   0.376  15.506        0\n",
            "4   4  26.116   3.963        1\n",
            "\n",
            "\n",
            "With 5 Nearest Neighbors\n",
            "\n",
            "Predicted class: 2.0\n",
            "Nearest Neighbors: [27, 29, 30, 19, 25]\n"
          ]
        }
      ]
    },
    {
      "cell_type": "code",
      "source": [
        "# Define the actual classes\n",
        "actualClasses = data['cluster']\n",
        "\n",
        "# Calculate the predicted classes using the KNN model\n",
        "predictedClasses = []\n",
        "\n",
        "for idx in range(len(data)):\n",
        "    testSet = [data.iloc[idx]['x'], data.iloc[idx]['y']]\n",
        "    result, _ = knn(data, testSet, k)\n",
        "    predictedClasses.append(result)\n",
        "\n",
        "# Compute accuracy\n",
        "accuracy = (predictedClasses == actualClasses).sum() / len(data) * 100\n",
        "\n",
        "# Compute precision, recall, and F1-score\n",
        "from sklearn.metrics import classification_report\n",
        "\n",
        "print('Accuracy:', accuracy)\n",
        "print(classification_report(actualClasses, predictedClasses))\n"
      ],
      "metadata": {
        "colab": {
          "base_uri": "https://localhost:8080/"
        },
        "id": "eotl3RCSs1kq",
        "outputId": "6ea5af74-68fa-4ad0-9c11-64b4277e766a"
      },
      "execution_count": 4,
      "outputs": [
        {
          "output_type": "stream",
          "name": "stdout",
          "text": [
            "Accuracy: 28.333333333333332\n",
            "              precision    recall  f1-score   support\n",
            "\n",
            "           0       0.04      0.07      0.05        15\n",
            "           1       0.00      0.00      0.00        22\n",
            "           2       0.55      0.70      0.62        23\n",
            "\n",
            "    accuracy                           0.28        60\n",
            "   macro avg       0.20      0.25      0.22        60\n",
            "weighted avg       0.22      0.28      0.25        60\n",
            "\n"
          ]
        }
      ]
    }
  ]
}