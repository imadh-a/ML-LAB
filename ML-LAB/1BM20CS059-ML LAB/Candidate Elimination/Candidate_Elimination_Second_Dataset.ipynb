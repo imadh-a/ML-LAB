{
  "nbformat": 4,
  "nbformat_minor": 0,
  "metadata": {
    "colab": {
      "provenance": []
    },
    "kernelspec": {
      "name": "python3",
      "display_name": "Python 3"
    },
    "language_info": {
      "name": "python"
    }
  },
  "cells": [
    {
      "cell_type": "code",
      "execution_count": null,
      "metadata": {
        "id": "qN9spu05KFPJ"
      },
      "outputs": [],
      "source": [
        "import numpy as np\n",
        "import pandas as pd\n"
      ]
    },
    {
      "cell_type": "code",
      "source": [
        "\n",
        "from google.colab import drive\n",
        "drive.mount('/content/drive')"
      ],
      "metadata": {
        "colab": {
          "base_uri": "https://localhost:8080/"
        },
        "id": "QQZx2TFpKJsA",
        "outputId": "efc6c6f9-e426-4ebf-c588-c049f0f65f42"
      },
      "execution_count": null,
      "outputs": [
        {
          "output_type": "stream",
          "name": "stdout",
          "text": [
            "Drive already mounted at /content/drive; to attempt to forcibly remount, call drive.mount(\"/content/drive\", force_remount=True).\n"
          ]
        }
      ]
    },
    {
      "cell_type": "code",
      "source": [
        "\n",
        "data = pd.DataFrame(data=pd.read_csv('/content/drive/MyDrive/ML LAB/LAB-3/second_dataset_1BM20CS059.csv'))\n"
      ],
      "metadata": {
        "id": "FBt_94sSKKuE"
      },
      "execution_count": null,
      "outputs": []
    },
    {
      "cell_type": "code",
      "source": [
        "print(data,\"\\n\")"
      ],
      "metadata": {
        "colab": {
          "base_uri": "https://localhost:8080/"
        },
        "id": "FE6m10A7K4HS",
        "outputId": "e7f68e50-0a29-4da2-a934-c553d145f92d"
      },
      "execution_count": null,
      "outputs": [
        {
          "output_type": "stream",
          "name": "stdout",
          "text": [
            "   Some   Small      No  Affordable   Many No.1\n",
            "0  Many     Big      No    Expensive   One  Yes\n",
            "1  Some     Big  Always    Expensive  Few    No\n",
            "2  Many  Medium      No    Expensive  Many  Yes\n",
            "3  Many   Small      No  Affordable   Many  Yes \n",
            "\n"
          ]
        }
      ]
    },
    {
      "cell_type": "code",
      "source": [
        "\n",
        "concepts = np.array(data.iloc[:,0:-1])"
      ],
      "metadata": {
        "id": "DlfmvsoMK7fT"
      },
      "execution_count": null,
      "outputs": []
    },
    {
      "cell_type": "code",
      "source": [
        "print(\"The attributes are: \",concepts)"
      ],
      "metadata": {
        "colab": {
          "base_uri": "https://localhost:8080/"
        },
        "id": "ti1v4W8SLFW-",
        "outputId": "082d2ec2-5296-4b38-ebd4-6a82b4293546"
      },
      "execution_count": null,
      "outputs": [
        {
          "output_type": "stream",
          "name": "stdout",
          "text": [
            "The attributes are:  [['Many' 'Big' 'No' 'Expensive' 'One']\n",
            " ['Some' 'Big' 'Always' 'Expensive' 'Few ']\n",
            " ['Many' 'Medium' 'No' 'Expensive' 'Many']\n",
            " ['Many' 'Small' 'No' 'Affordable ' 'Many']]\n"
          ]
        }
      ]
    },
    {
      "cell_type": "code",
      "source": [
        "target = np.array(data.iloc[:,-1])"
      ],
      "metadata": {
        "id": "HjU8wuH2LG2A"
      },
      "execution_count": null,
      "outputs": []
    },
    {
      "cell_type": "code",
      "source": [
        "print(\"\\n The target is: \",target)"
      ],
      "metadata": {
        "colab": {
          "base_uri": "https://localhost:8080/"
        },
        "id": "YUhKPFXdLKvf",
        "outputId": "8520ad19-e7a1-4c0a-839d-9fc29fbb8e0f"
      },
      "execution_count": null,
      "outputs": [
        {
          "output_type": "stream",
          "name": "stdout",
          "text": [
            "\n",
            " The target is:  ['Yes' 'No' 'Yes' 'Yes']\n"
          ]
        }
      ]
    },
    {
      "cell_type": "code",
      "source": [
        "import csv\n"
      ],
      "metadata": {
        "id": "NiYpuQT0LNXx"
      },
      "execution_count": null,
      "outputs": []
    },
    {
      "cell_type": "code",
      "source": [
        "with open(\"/content/drive/MyDrive/ML LAB/LAB-3/second_dataset_1BM20CS059.csv\") as f:\n",
        "    csv_file = csv.reader(f)\n",
        "    data = list(csv_file)\n",
        "\n",
        "    specific = data[1][:-1]\n",
        "    general = [['?' for i in range(len(specific))] for j in range(len(specific))]\n",
        "\n",
        "    for i in data:\n",
        "        if i[-1] == \"Yes\":\n",
        "            for j in range(len(specific)):\n",
        "                if i[j] != specific[j]:\n",
        "                    specific[j] = \"?\"\n",
        "                    general[j][j] = \"?\"\n",
        "\n",
        "        elif i[-1] == \"No\":\n",
        "            for j in range(len(specific)):\n",
        "                if i[j] != specific[j]:\n",
        "                    general[j][j] = specific[j]\n",
        "                else:\n",
        "                    general[j][j] = \"?\"\n",
        "\n",
        "        print(\"\\nStep \" + str(data.index(i)) + \" of Candidate Elimination Algorithm\")\n",
        "        print(specific)\n",
        "        print(general)\n",
        "\n",
        "    gh = [] # gh = general Hypothesis\n",
        "    for i in general:\n",
        "        for j in i:\n",
        "            if j != '?':\n",
        "                gh.append(i)\n",
        "                break\n",
        "    print(\"\\nFinal Specific hypothesis:\\n\", specific)\n",
        "    print(\"\\nFinal General hypothesis:\\n\", gh)"
      ],
      "metadata": {
        "colab": {
          "base_uri": "https://localhost:8080/"
        },
        "id": "IpsiFw-1Laj1",
        "outputId": "31c5591e-1db1-4e9a-e7cd-a8896dabe7fd"
      },
      "execution_count": null,
      "outputs": [
        {
          "output_type": "stream",
          "name": "stdout",
          "text": [
            "\n",
            "Step 0 of Candidate Elimination Algorithm\n",
            "['Many', 'Big', 'No', 'Expensive', 'One']\n",
            "[['Many', '?', '?', '?', '?'], ['?', 'Big', '?', '?', '?'], ['?', '?', '?', '?', '?'], ['?', '?', '?', 'Expensive', '?'], ['?', '?', '?', '?', 'One']]\n",
            "\n",
            "Step 1 of Candidate Elimination Algorithm\n",
            "['Many', 'Big', 'No', 'Expensive', 'One']\n",
            "[['Many', '?', '?', '?', '?'], ['?', 'Big', '?', '?', '?'], ['?', '?', '?', '?', '?'], ['?', '?', '?', 'Expensive', '?'], ['?', '?', '?', '?', 'One']]\n",
            "\n",
            "Step 2 of Candidate Elimination Algorithm\n",
            "['Many', 'Big', 'No', 'Expensive', 'One']\n",
            "[['Many', '?', '?', '?', '?'], ['?', '?', '?', '?', '?'], ['?', '?', 'No', '?', '?'], ['?', '?', '?', '?', '?'], ['?', '?', '?', '?', 'One']]\n",
            "\n",
            "Step 3 of Candidate Elimination Algorithm\n",
            "['Many', '?', 'No', 'Expensive', '?']\n",
            "[['Many', '?', '?', '?', '?'], ['?', '?', '?', '?', '?'], ['?', '?', 'No', '?', '?'], ['?', '?', '?', '?', '?'], ['?', '?', '?', '?', '?']]\n",
            "\n",
            "Step 4 of Candidate Elimination Algorithm\n",
            "['Many', '?', 'No', '?', '?']\n",
            "[['Many', '?', '?', '?', '?'], ['?', '?', '?', '?', '?'], ['?', '?', 'No', '?', '?'], ['?', '?', '?', '?', '?'], ['?', '?', '?', '?', '?']]\n",
            "\n",
            "Final Specific hypothesis:\n",
            " ['Many', '?', 'No', '?', '?']\n",
            "\n",
            "Final General hypothesis:\n",
            " [['Many', '?', '?', '?', '?'], ['?', '?', 'No', '?', '?']]\n"
          ]
        }
      ]
    }
  ]
}