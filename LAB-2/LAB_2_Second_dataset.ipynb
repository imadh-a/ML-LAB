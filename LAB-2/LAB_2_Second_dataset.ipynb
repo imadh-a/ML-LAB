{
  "nbformat": 4,
  "nbformat_minor": 0,
  "metadata": {
    "colab": {
      "provenance": []
    },
    "kernelspec": {
      "name": "python3",
      "display_name": "Python 3"
    },
    "language_info": {
      "name": "python"
    }
  },
  "cells": [
    {
      "cell_type": "code",
      "execution_count": 11,
      "metadata": {
        "id": "rIcgA3kTKLUg"
      },
      "outputs": [],
      "source": [
        "import numpy as np\n",
        "import pandas as pd"
      ]
    },
    {
      "cell_type": "code",
      "source": [
        "from google.colab import drive\n",
        "drive.mount(\"/content/drive\")"
      ],
      "metadata": {
        "colab": {
          "base_uri": "https://localhost:8080/"
        },
        "id": "ZHy9wiBSKWE3",
        "outputId": "26831aba-28e5-44a4-c7ad-a84d3f222c7b"
      },
      "execution_count": 2,
      "outputs": [
        {
          "output_type": "stream",
          "name": "stdout",
          "text": [
            "Mounted at /content/drive\n"
          ]
        }
      ]
    },
    {
      "cell_type": "code",
      "source": [
        "path=\"/content/drive/MyDrive/ML LAB/LAB-2/second_dataset.csv\""
      ],
      "metadata": {
        "id": "7yg2lQ6cKXz2"
      },
      "execution_count": 3,
      "outputs": []
    },
    {
      "cell_type": "code",
      "source": [
        "data = pd.read_csv(path)"
      ],
      "metadata": {
        "id": "f7NVbE8hL4X3"
      },
      "execution_count": 4,
      "outputs": []
    },
    {
      "cell_type": "code",
      "source": [
        "print(data,\"\\n\")"
      ],
      "metadata": {
        "colab": {
          "base_uri": "https://localhost:8080/"
        },
        "id": "vWChZRcmL5Sf",
        "outputId": "90a65a9a-38b0-482c-df32-eb8cd32b4e32"
      },
      "execution_count": 5,
      "outputs": [
        {
          "output_type": "stream",
          "name": "stdout",
          "text": [
            "   example citations    size inLibrary       price editions  buy\n",
            "0        1      some   small        no  affordable     many   no\n",
            "1        2      many     big        no   expensive      one  yes\n",
            "2        3      some     big    always   expensive      few   no\n",
            "3        4      many  medium        no   expensive     many  yes\n",
            "4        5      many   small        no  affordable     many  yes \n",
            "\n"
          ]
        }
      ]
    },
    {
      "cell_type": "code",
      "source": [
        "d = np.array(data)[:,:-1]\n",
        "print(\"\\n The attributes are: \",d)"
      ],
      "metadata": {
        "colab": {
          "base_uri": "https://localhost:8080/"
        },
        "id": "3JR-Lh5RL9Jn",
        "outputId": "e9f200b7-60b5-4771-91bd-c7e312471392"
      },
      "execution_count": 6,
      "outputs": [
        {
          "output_type": "stream",
          "name": "stdout",
          "text": [
            "\n",
            " The attributes are:  [[1 'some' 'small' 'no' 'affordable' 'many']\n",
            " [2 'many' 'big' 'no' 'expensive' 'one']\n",
            " [3 'some' 'big' 'always' 'expensive' 'few']\n",
            " [4 'many' 'medium' 'no' 'expensive' 'many']\n",
            " [5 'many' 'small' 'no' 'affordable' 'many']]\n"
          ]
        }
      ]
    },
    {
      "cell_type": "code",
      "source": [
        "target = np.array(data)[:,-1]\n",
        "print(\"\\n The target is: \",target)"
      ],
      "metadata": {
        "colab": {
          "base_uri": "https://localhost:8080/"
        },
        "id": "6rmObDUuMAXv",
        "outputId": "ca9a92ce-bdf3-4290-fbe2-1f52036de873"
      },
      "execution_count": 7,
      "outputs": [
        {
          "output_type": "stream",
          "name": "stdout",
          "text": [
            "\n",
            " The target is:  ['no' 'yes' 'no' 'yes' 'yes']\n"
          ]
        }
      ]
    },
    {
      "cell_type": "code",
      "source": [
        "def find_s(d,target):\n",
        "  for i,val in enumerate(target):\n",
        "    if val=='yes':\n",
        "      hypothesis=d[i].copy()\n",
        "      break\n",
        "  \n",
        "  for i,var in enumerate(d):\n",
        "    if target[i]==\"yes\":\n",
        "      for x in range(len(hypothesis)):\n",
        "        if var[x]!=hypothesis[x]:\n",
        "          hypothesis[x]='?'\n",
        "        else:\n",
        "          pass   \n",
        "\n",
        "  return hypothesis\n",
        "\n",
        "print(\"The Hypothesis is\",find_s(d,target))"
      ],
      "metadata": {
        "colab": {
          "base_uri": "https://localhost:8080/"
        },
        "id": "Of4Zir3-MJb2",
        "outputId": "15f6f35f-60b2-4a4f-baa7-8be73844a413"
      },
      "execution_count": 14,
      "outputs": [
        {
          "output_type": "stream",
          "name": "stdout",
          "text": [
            "The Hypothesis is ['?' 'many' '?' 'no' '?' '?']\n"
          ]
        }
      ]
    }
  ]
}